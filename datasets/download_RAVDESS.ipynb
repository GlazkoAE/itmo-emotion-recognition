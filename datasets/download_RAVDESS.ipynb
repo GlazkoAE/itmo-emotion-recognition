{
 "cells": [
  {
   "cell_type": "code",
   "execution_count": 5,
   "outputs": [],
   "source": [
    "from wget import download\n",
    "import os"
   ],
   "metadata": {
    "collapsed": false,
    "pycharm": {
     "name": "#%%\n"
    }
   }
  },
  {
   "cell_type": "code",
   "execution_count": 6,
   "outputs": [],
   "source": [
    "import zipfile\n",
    "\n",
    "def unzip_and_delete(zip_path, out_dir):\n",
    "    with zipfile.ZipFile(zip_path, 'r') as zip_ref:\n",
    "        zip_ref.extractall(out_dir)\n",
    "    os.remove(zip_path)"
   ],
   "metadata": {
    "collapsed": false,
    "pycharm": {
     "name": "#%%\n"
    }
   }
  },
  {
   "cell_type": "code",
   "execution_count": 7,
   "outputs": [],
   "source": [
    "def num2str(num):\n",
    "    return '0' + str(num) if num // 10 == 0 else str(num)"
   ],
   "metadata": {
    "collapsed": false,
    "pycharm": {
     "name": "#%%\n"
    }
   }
  },
  {
   "cell_type": "code",
   "execution_count": 3,
   "outputs": [],
   "source": [
    "# download audio-only records\n",
    "\n",
    "data_dir = 'RAVDESS_audio'\n",
    "names = ['Audio_Song_Actors_01-24', 'Audio_Speech_Actors_01-24']\n",
    "url_body = 'https://zenodo.org/record/1188976/files/'\n",
    "\n",
    "if not os.path.exists(data_dir):\n",
    "    os.makedirs(data_dir)\n",
    "\n",
    "for name in names:\n",
    "    url = url_body + name + '.zip'\n",
    "    print(url)\n",
    "    download(url, data_dir)\n",
    "    unzip_and_delete(os.path.join(data_dir, name + '.zip'), data_dir)"
   ],
   "metadata": {
    "collapsed": false,
    "pycharm": {
     "name": "#%%\n"
    }
   }
  },
  {
   "cell_type": "code",
   "execution_count": 8,
   "outputs": [
    {
     "name": "stdout",
     "output_type": "stream",
     "text": [
      "https://zenodo.org/record/1188976/files/Video_Song_Actor_01.zip\n",
      "https://zenodo.org/record/1188976/files/Video_Speech_Actor_01.zip\n"
     ]
    }
   ],
   "source": [
    "# download video records\n",
    "\n",
    "data_dir = 'RAVDESS_video'\n",
    "name_body = ['Video_Song_Actor_', 'Video_Speech_Actor_']\n",
    "# name_num = range(1, 25)\n",
    "name_num = [1]\n",
    "url_body = 'https://zenodo.org/record/1188976/files/'\n",
    "\n",
    "names = []\n",
    "for speech_type in name_body:\n",
    "    for num in name_num:\n",
    "        names.append(speech_type + num2str(num))\n",
    "\n",
    "if not os.path.exists(data_dir):\n",
    "    os.makedirs(data_dir)\n",
    "\n",
    "for name in names:\n",
    "    url = url_body + name + '.zip'\n",
    "    print(url)\n",
    "    try:\n",
    "        download(url, data_dir)\n",
    "        unzip_and_delete(os.path.join(data_dir, name + '.zip'), data_dir)\n",
    "    except:\n",
    "        print('NOT FOUND')"
   ],
   "metadata": {
    "collapsed": false,
    "pycharm": {
     "name": "#%%\n"
    }
   }
  }
 ],
 "metadata": {
  "kernelspec": {
   "display_name": "Python 3",
   "language": "python",
   "name": "python3"
  },
  "language_info": {
   "codemirror_mode": {
    "name": "ipython",
    "version": 2
   },
   "file_extension": ".py",
   "mimetype": "text/x-python",
   "name": "python",
   "nbconvert_exporter": "python",
   "pygments_lexer": "ipython2",
   "version": "2.7.6"
  }
 },
 "nbformat": 4,
 "nbformat_minor": 0
}